{
 "cells": [
  {
   "cell_type": "code",
   "execution_count": 3,
   "id": "4de4aed4",
   "metadata": {},
   "outputs": [],
   "source": [
    "import numpy as np\n",
    "import pandas as pd"
   ]
  },
  {
   "cell_type": "code",
   "execution_count": 12,
   "id": "fc63b857",
   "metadata": {},
   "outputs": [
    {
     "name": "stdout",
     "output_type": "stream",
     "text": [
      "this is r\n",
      "this is python\n",
      "this is scala\n",
      "this is django\n",
      "None\n",
      "this is gold\n",
      "this is silver\n",
      "this is diamond\n",
      "this is bronze\n",
      "None\n"
     ]
    }
   ],
   "source": [
    "p = np.array(['r','python','scala','django'])\n",
    "u = np.array(['gold','silver','diamond','bronze'])\n",
    "\n",
    "def get_a_line(myarray):\n",
    "    for x in range (len(myarray)):\n",
    "        print(f\"this is {myarray[x]}\")\n",
    "        \n",
    "print(get_a_line(p))\n",
    "\n",
    "print(get_a_line(u))"
   ]
  },
  {
   "cell_type": "markdown",
   "id": "92930b5b",
   "metadata": {},
   "source": [
    "regexgenetrator.com"
   ]
  },
  {
   "cell_type": "code",
   "execution_count": null,
   "id": "3e9804eb",
   "metadata": {},
   "outputs": [],
   "source": []
  },
  {
   "cell_type": "code",
   "execution_count": null,
   "id": "b8c30c21",
   "metadata": {},
   "outputs": [],
   "source": []
  },
  {
   "cell_type": "code",
   "execution_count": null,
   "id": "d1874e23",
   "metadata": {},
   "outputs": [],
   "source": []
  },
  {
   "cell_type": "code",
   "execution_count": null,
   "id": "a61cb2e9",
   "metadata": {},
   "outputs": [],
   "source": []
  }
 ],
 "metadata": {
  "kernelspec": {
   "display_name": "Python 3 (ipykernel)",
   "language": "python",
   "name": "python3"
  },
  "language_info": {
   "codemirror_mode": {
    "name": "ipython",
    "version": 3
   },
   "file_extension": ".py",
   "mimetype": "text/x-python",
   "name": "python",
   "nbconvert_exporter": "python",
   "pygments_lexer": "ipython3",
   "version": "3.9.12"
  }
 },
 "nbformat": 4,
 "nbformat_minor": 5
}
